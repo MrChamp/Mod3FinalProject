{
 "cells": [
  {
   "cell_type": "code",
   "execution_count": 1,
   "metadata": {},
   "outputs": [],
   "source": [
    "import pandas as pd\n",
    "import sqlite3\n",
    "import seaborn as sns\n",
    "import scipy.stats as stats\n",
    "import numpy as np\n",
    "import matplotlib.pyplot as plt\n",
    "%matplotlib inline\n",
    "# np.random.seed(0)"
   ]
  },
  {
   "cell_type": "code",
   "execution_count": 2,
   "metadata": {},
   "outputs": [],
   "source": [
    "conn = sqlite3.Connection('Northwind_small.sqlite')\n",
    "cur = conn.cursor()"
   ]
  },
  {
   "cell_type": "code",
   "execution_count": 3,
   "metadata": {},
   "outputs": [
    {
     "data": {
      "text/html": [
       "<div>\n",
       "<style scoped>\n",
       "    .dataframe tbody tr th:only-of-type {\n",
       "        vertical-align: middle;\n",
       "    }\n",
       "\n",
       "    .dataframe tbody tr th {\n",
       "        vertical-align: top;\n",
       "    }\n",
       "\n",
       "    .dataframe thead th {\n",
       "        text-align: right;\n",
       "    }\n",
       "</style>\n",
       "<table border=\"1\" class=\"dataframe\">\n",
       "  <thead>\n",
       "    <tr style=\"text-align: right;\">\n",
       "      <th></th>\n",
       "      <th>Id</th>\n",
       "      <th>OrderId</th>\n",
       "      <th>ProductId</th>\n",
       "      <th>UnitPrice</th>\n",
       "      <th>Quantity</th>\n",
       "      <th>Discount</th>\n",
       "    </tr>\n",
       "  </thead>\n",
       "  <tbody>\n",
       "    <tr>\n",
       "      <th>0</th>\n",
       "      <td>10248/11</td>\n",
       "      <td>10248</td>\n",
       "      <td>11</td>\n",
       "      <td>14.0</td>\n",
       "      <td>12</td>\n",
       "      <td>0.0</td>\n",
       "    </tr>\n",
       "    <tr>\n",
       "      <th>1</th>\n",
       "      <td>10248/42</td>\n",
       "      <td>10248</td>\n",
       "      <td>42</td>\n",
       "      <td>9.8</td>\n",
       "      <td>10</td>\n",
       "      <td>0.0</td>\n",
       "    </tr>\n",
       "    <tr>\n",
       "      <th>2</th>\n",
       "      <td>10248/72</td>\n",
       "      <td>10248</td>\n",
       "      <td>72</td>\n",
       "      <td>34.8</td>\n",
       "      <td>5</td>\n",
       "      <td>0.0</td>\n",
       "    </tr>\n",
       "    <tr>\n",
       "      <th>3</th>\n",
       "      <td>10249/14</td>\n",
       "      <td>10249</td>\n",
       "      <td>14</td>\n",
       "      <td>18.6</td>\n",
       "      <td>9</td>\n",
       "      <td>0.0</td>\n",
       "    </tr>\n",
       "    <tr>\n",
       "      <th>4</th>\n",
       "      <td>10249/51</td>\n",
       "      <td>10249</td>\n",
       "      <td>51</td>\n",
       "      <td>42.4</td>\n",
       "      <td>40</td>\n",
       "      <td>0.0</td>\n",
       "    </tr>\n",
       "  </tbody>\n",
       "</table>\n",
       "</div>"
      ],
      "text/plain": [
       "         Id  OrderId  ProductId  UnitPrice  Quantity  Discount\n",
       "0  10248/11    10248         11       14.0        12       0.0\n",
       "1  10248/42    10248         42        9.8        10       0.0\n",
       "2  10248/72    10248         72       34.8         5       0.0\n",
       "3  10249/14    10249         14       18.6         9       0.0\n",
       "4  10249/51    10249         51       42.4        40       0.0"
      ]
     },
     "execution_count": 3,
     "metadata": {},
     "output_type": "execute_result"
    }
   ],
   "source": [
    "cur.execute('''SELECT *\n",
    "                FROM OrderDetail;''')\n",
    "df = pd.DataFrame(cur.fetchall())\n",
    "df.columns = [x[0] for x in cur.description]\n",
    "df.head()"
   ]
  },
  {
   "cell_type": "code",
   "execution_count": 4,
   "metadata": {},
   "outputs": [
    {
     "data": {
      "text/html": [
       "<div>\n",
       "<style scoped>\n",
       "    .dataframe tbody tr th:only-of-type {\n",
       "        vertical-align: middle;\n",
       "    }\n",
       "\n",
       "    .dataframe tbody tr th {\n",
       "        vertical-align: top;\n",
       "    }\n",
       "\n",
       "    .dataframe thead th {\n",
       "        text-align: right;\n",
       "    }\n",
       "</style>\n",
       "<table border=\"1\" class=\"dataframe\">\n",
       "  <thead>\n",
       "    <tr style=\"text-align: right;\">\n",
       "      <th></th>\n",
       "      <th>OrderId</th>\n",
       "      <th>ProductId</th>\n",
       "      <th>UnitPrice</th>\n",
       "      <th>Quantity</th>\n",
       "      <th>Discount</th>\n",
       "    </tr>\n",
       "  </thead>\n",
       "  <tbody>\n",
       "    <tr>\n",
       "      <th>count</th>\n",
       "      <td>2155.000000</td>\n",
       "      <td>2155.000000</td>\n",
       "      <td>2155.000000</td>\n",
       "      <td>2155.000000</td>\n",
       "      <td>2155.000000</td>\n",
       "    </tr>\n",
       "    <tr>\n",
       "      <th>mean</th>\n",
       "      <td>10659.375870</td>\n",
       "      <td>40.793039</td>\n",
       "      <td>26.218520</td>\n",
       "      <td>23.812993</td>\n",
       "      <td>0.056167</td>\n",
       "    </tr>\n",
       "    <tr>\n",
       "      <th>std</th>\n",
       "      <td>241.378032</td>\n",
       "      <td>22.159019</td>\n",
       "      <td>29.827418</td>\n",
       "      <td>19.022047</td>\n",
       "      <td>0.083450</td>\n",
       "    </tr>\n",
       "    <tr>\n",
       "      <th>min</th>\n",
       "      <td>10248.000000</td>\n",
       "      <td>1.000000</td>\n",
       "      <td>2.000000</td>\n",
       "      <td>1.000000</td>\n",
       "      <td>0.000000</td>\n",
       "    </tr>\n",
       "    <tr>\n",
       "      <th>25%</th>\n",
       "      <td>10451.000000</td>\n",
       "      <td>22.000000</td>\n",
       "      <td>12.000000</td>\n",
       "      <td>10.000000</td>\n",
       "      <td>0.000000</td>\n",
       "    </tr>\n",
       "    <tr>\n",
       "      <th>50%</th>\n",
       "      <td>10657.000000</td>\n",
       "      <td>41.000000</td>\n",
       "      <td>18.400000</td>\n",
       "      <td>20.000000</td>\n",
       "      <td>0.000000</td>\n",
       "    </tr>\n",
       "    <tr>\n",
       "      <th>75%</th>\n",
       "      <td>10862.500000</td>\n",
       "      <td>60.000000</td>\n",
       "      <td>32.000000</td>\n",
       "      <td>30.000000</td>\n",
       "      <td>0.100000</td>\n",
       "    </tr>\n",
       "    <tr>\n",
       "      <th>max</th>\n",
       "      <td>11077.000000</td>\n",
       "      <td>77.000000</td>\n",
       "      <td>263.500000</td>\n",
       "      <td>130.000000</td>\n",
       "      <td>0.250000</td>\n",
       "    </tr>\n",
       "  </tbody>\n",
       "</table>\n",
       "</div>"
      ],
      "text/plain": [
       "            OrderId    ProductId    UnitPrice     Quantity     Discount\n",
       "count   2155.000000  2155.000000  2155.000000  2155.000000  2155.000000\n",
       "mean   10659.375870    40.793039    26.218520    23.812993     0.056167\n",
       "std      241.378032    22.159019    29.827418    19.022047     0.083450\n",
       "min    10248.000000     1.000000     2.000000     1.000000     0.000000\n",
       "25%    10451.000000    22.000000    12.000000    10.000000     0.000000\n",
       "50%    10657.000000    41.000000    18.400000    20.000000     0.000000\n",
       "75%    10862.500000    60.000000    32.000000    30.000000     0.100000\n",
       "max    11077.000000    77.000000   263.500000   130.000000     0.250000"
      ]
     },
     "execution_count": 4,
     "metadata": {},
     "output_type": "execute_result"
    }
   ],
   "source": [
    "df.describe()"
   ]
  },
  {
   "cell_type": "code",
   "execution_count": 5,
   "metadata": {},
   "outputs": [
    {
     "name": "stdout",
     "output_type": "stream",
     "text": [
      "<class 'pandas.core.frame.DataFrame'>\n",
      "Int64Index: 838 entries, 6 to 2152\n",
      "Data columns (total 6 columns):\n",
      "Id           838 non-null object\n",
      "OrderId      838 non-null int64\n",
      "ProductId    838 non-null int64\n",
      "UnitPrice    838 non-null float64\n",
      "Quantity     838 non-null int64\n",
      "Discount     838 non-null float64\n",
      "dtypes: float64(2), int64(3), object(1)\n",
      "memory usage: 45.8+ KB\n",
      "**************************\n",
      "<class 'pandas.core.frame.DataFrame'>\n",
      "Int64Index: 1317 entries, 0 to 2154\n",
      "Data columns (total 6 columns):\n",
      "Id           1317 non-null object\n",
      "OrderId      1317 non-null int64\n",
      "ProductId    1317 non-null int64\n",
      "UnitPrice    1317 non-null float64\n",
      "Quantity     1317 non-null int64\n",
      "Discount     1317 non-null float64\n",
      "dtypes: float64(2), int64(3), object(1)\n",
      "memory usage: 72.0+ KB\n"
     ]
    }
   ],
   "source": [
    "no_discount = df.loc[df['Discount'] == 0]\n",
    "discount = df.loc[df['Discount']!= 0]\n",
    "discount.info()\n",
    "print('**************************')\n",
    "no_discount.info()"
   ]
  },
  {
   "cell_type": "code",
   "execution_count": 6,
   "metadata": {},
   "outputs": [],
   "source": [
    "def get_sample(data, n):\n",
    "    return list(data.sample(n, replace = False))\n",
    "    pass\n",
    "def get_sample_mean(sample):\n",
    "    return np.mean(sample)\n",
    "    pass\n",
    "def create_sample_distribution(data, dist_size=100, n=30):\n",
    "    sample_means = []\n",
    "    for i in range(dist_size):\n",
    "        to_mean = get_sample(data, n)\n",
    "        sample_means.append(get_sample_mean(to_mean))\n",
    "    return sample_means\n",
    "    pass"
   ]
  },
  {
   "cell_type": "code",
   "execution_count": 7,
   "metadata": {},
   "outputs": [],
   "source": [
    "qty_no_discount = no_discount['Quantity']\n",
    "qty_discount = discount['Quantity']"
   ]
  },
  {
   "cell_type": "code",
   "execution_count": 8,
   "metadata": {},
   "outputs": [
    {
     "data": {
      "text/plain": [
       "Text(0, 0.5, 'Quantity Probability')"
      ]
     },
     "execution_count": 8,
     "metadata": {},
     "output_type": "execute_result"
    },
    {
     "data": {
      "image/png": "[encoded data removed]",
      "text/plain": [
       "<Figure size 432x288 with 1 Axes>"
      ]
     },
     "metadata": {
      "needs_background": "light"
     },
     "output_type": "display_data"
    }
   ],
   "source": [
    "#creation of a sample set for quantity without discounts (grqaph for visualization)\n",
    "no_discount_sample = create_sample_distribution(qty_no_discount,dist_size=1000,n=30)\n",
    "sns.distplot(no_discount_sample)\n",
    "plt.title('Quantity Probability Sampled With No Discount')\n",
    "plt.xlabel('Quantity')\n",
    "plt.ylabel('Quantity Probability')"
   ]
  },
  {
   "cell_type": "code",
   "execution_count": 9,
   "metadata": {},
   "outputs": [
    {
     "data": {
      "text/plain": [
       "Text(0, 0.5, 'Quantity Probability')"
      ]
     },
     "execution_count": 9,
     "metadata": {},
     "output_type": "execute_result"
    },
    {
     "data": {
      "image/png": "[encoded data removed]",
      "text/plain": [
       "<Figure size 432x288 with 1 Axes>"
      ]
     },
     "metadata": {
      "needs_background": "light"
     },
     "output_type": "display_data"
    }
   ],
   "source": [
    "#creation of a sample set for quantity with discounts (grqaph for visualization)\n",
    "with_discount_sample = create_sample_distribution(qty_discount,dist_size=1000,n=30)\n",
    "sns.distplot(with_discount_sample)\n",
    "plt.title('Quantity Probability Sampled With Discount')\n",
    "plt.xlabel('Quantity')\n",
    "plt.ylabel('Quantity Probability')"
   ]
  },
  {
   "cell_type": "markdown",
   "metadata": {},
   "source": [
    "Create sample for z test from the normally distributed samples (now the population total)"
   ]
  },
  {
   "cell_type": "code",
   "execution_count": 10,
   "metadata": {},
   "outputs": [],
   "source": [
    "#Statistics for the discount quantity sample\n",
    "disc_total_pop = with_discount_sample\n",
    "disc_samp = np.random.choice(disc_total_pop, size=30, replace = False)\n",
    "\n",
    "#Statistics for the no discount quantity sample\n",
    "no_disc_total_pop = no_discount_sample\n",
    "no_disc_samp = np.random.choice(no_disc_total_pop, size=30, replace = False)\n"
   ]
  },
  {
   "cell_type": "markdown",
   "metadata": {},
   "source": [
    "Summary:\n",
    "The total population is the population of all quantities"
   ]
  },
  {
   "cell_type": "markdown",
   "metadata": {},
   "source": [
    "Hypothesis test:\n",
    "\n",
    "H_0 : mu_1 = mu_2\n",
    "H1 : mu_1 != mu_2\n",
    "\n",
    "where mu_1 represents the mean of the no discount data and mu_2 represents the data with a discount"
   ]
  },
  {
   "cell_type": "code",
   "execution_count": 11,
   "metadata": {},
   "outputs": [
    {
     "name": "stdout",
     "output_type": "stream",
     "text": [
      "5.012410060359038 5.827712419970155e-06\n"
     ]
    }
   ],
   "source": [
    "def welch_t(a, b):\n",
    "    \n",
    "    \"\"\" Calculate Welch's t-statistic for two samples. \"\"\"\n",
    "\n",
    "    numerator = a.mean() - b.mean()\n",
    "    \n",
    "    denominator = np.sqrt(a.var(ddof=1)/a.size + b.var(ddof=1)/b.size)\n",
    "    \n",
    "    return np.abs(numerator/denominator)\n",
    "\n",
    "def welch_df(a, b):\n",
    "    \n",
    "    \"\"\" Calculate the effective degrees of freedom for two samples. \"\"\"\n",
    "    \n",
    "    s1 = a.var(ddof=1) \n",
    "    s2 = b.var(ddof=1)\n",
    "    n1 = a.size\n",
    "    n2 = b.size\n",
    "    \n",
    "    numerator = (s1/n1 + s2/n2)**2\n",
    "    denominator = (s1/ n1)**2/(n1 - 1) + (s2/ n2)**2/(n2 - 1)\n",
    "    \n",
    "    return numerator/denominator\n",
    "\n",
    "\n",
    "t = welch_t(no_disc_samp, disc_samp)\n",
    "df = welch_df(no_disc_samp, disc_samp)\n",
    "\n",
    "def p_value(a, b, two_sided=False):\n",
    "\n",
    "    t = welch_t(a, b)\n",
    "    df = welch_df(a, b)\n",
    "    \n",
    "    p = 1-stats.t.cdf(np.abs(t), df)\n",
    "    \n",
    "    if two_sided:\n",
    "        return 2*p\n",
    "    else:\n",
    "        return p\n",
    "\n",
    "\n",
    "p = p_value(no_disc_samp,disc_samp, two_sided = True)\n",
    "\n",
    "\n",
    "print(t,p)"
   ]
  },
  {
   "cell_type": "code",
   "execution_count": 12,
   "metadata": {},
   "outputs": [
    {
     "name": "stdout",
     "output_type": "stream",
     "text": [
      "t_stat 5.012410060359038\n",
      "p_val 5.37146541059736e-06\n"
     ]
    }
   ],
   "source": [
    "t_stat, p_val = stats.ttest_ind(disc_samp, no_disc_samp)\n",
    "\n",
    "print('t_stat',t_stat)\n",
    "print('p_val',p_val)"
   ]
  },
  {
   "cell_type": "markdown",
   "metadata": {},
   "source": [
    "Because the p_value is so low, there is a low probability that the null hypothesis is true. Therefore evidence supports the idea that the means of the two data sets are different enough to indicate a (at least correlative) relationship between discount and quantity ordered. \n",
    "\n",
    "To what degree does this relationship exist?"
   ]
  },
  {
   "cell_type": "code",
   "execution_count": 13,
   "metadata": {},
   "outputs": [
    {
     "data": {
      "text/plain": [
       "'COME BACK AND CATEGORIZE THE DISCOUNTS AND RUN MORE TTESTS'"
      ]
     },
     "execution_count": 13,
     "metadata": {},
     "output_type": "execute_result"
    }
   ],
   "source": [
    "'''COME BACK AND CATEGORIZE THE DISCOUNTS AND RUN MORE TTESTS'''"
   ]
  },
  {
   "cell_type": "code",
   "execution_count": null,
   "metadata": {},
   "outputs": [],
   "source": []
  },
  {
   "cell_type": "code",
   "execution_count": 14,
   "metadata": {},
   "outputs": [
    {
     "data": {
      "text/plain": [
       "'# Visualize p_value\\n\\ndef visualize_t(t_stat, n_control, n_experimental):\\n    \\n    \"\"\"\\n    Visualize the critical t values on a t distribution\\n    \\n    Parameters\\n    -----------\\n    t-stat: float\\n    n_control: int\\n    n_experiment: int\\n    \\n    Returns\\n    ----------\\n    None\\n    \\n    \"\"\"\\n    # initialize a matplotlib \"figure\"\\n    fig = plt.figure(figsize=(8,5))\\n    ax = fig.gca()\\n    # generate points on the x axis between -4 and 4:\\n    xs = np.linspace(-4, 4, 500)\\n\\n    # use stats.t.ppf to get critical value. For alpha = 0.05 and two tailed test\\n    crit = stats.t.ppf(1-0.025, (n_control+n_experimental-2))\\n    \\n    # use stats.t.pdf to get values on the probability density function for the t-distribution\\n    \\n    ys= stats.t.pdf(xs, (n_control+n_experimental-2), 0, 1)\\n    ax.plot(xs, ys, linewidth=3, color=\\'darkred\\')\\n\\n    ax.axvline(crit, color=\\'black\\', linestyle=\\'--\\', lw=1)\\n    ax.axvline(-crit, color=\\'black\\', linestyle=\\'--\\', lw=1)\\n    \\n    plt.show()\\n    return None\\n\\nn_control = len(no_disc_samp)\\nn_experimental = len(disc_samp)\\nvisualize_t(t, n_control, n_experimental)'"
      ]
     },
     "execution_count": 14,
     "metadata": {},
     "output_type": "execute_result"
    }
   ],
   "source": [
    "'''# Visualize p_value\n",
    "\n",
    "def visualize_t(t_stat, n_control, n_experimental):\n",
    "    \n",
    "    \"\"\"\n",
    "    Visualize the critical t values on a t distribution\n",
    "    \n",
    "    Parameters\n",
    "    -----------\n",
    "    t-stat: float\n",
    "    n_control: int\n",
    "    n_experiment: int\n",
    "    \n",
    "    Returns\n",
    "    ----------\n",
    "    None\n",
    "    \n",
    "    \"\"\"\n",
    "    # initialize a matplotlib \"figure\"\n",
    "    fig = plt.figure(figsize=(8,5))\n",
    "    ax = fig.gca()\n",
    "    # generate points on the x axis between -4 and 4:\n",
    "    xs = np.linspace(-4, 4, 500)\n",
    "\n",
    "    # use stats.t.ppf to get critical value. For alpha = 0.05 and two tailed test\n",
    "    crit = stats.t.ppf(1-0.025, (n_control+n_experimental-2))\n",
    "    \n",
    "    # use stats.t.pdf to get values on the probability density function for the t-distribution\n",
    "    \n",
    "    ys= stats.t.pdf(xs, (n_control+n_experimental-2), 0, 1)\n",
    "    ax.plot(xs, ys, linewidth=3, color='darkred')\n",
    "\n",
    "    ax.axvline(crit, color='black', linestyle='--', lw=1)\n",
    "    ax.axvline(-crit, color='black', linestyle='--', lw=1)\n",
    "    \n",
    "    plt.show()\n",
    "    return None\n",
    "\n",
    "n_control = len(no_disc_samp)\n",
    "n_experimental = len(disc_samp)\n",
    "visualize_t(t, n_control, n_experimental)'''"
   ]
  },
  {
   "cell_type": "markdown",
   "metadata": {},
   "source": [
    "Question 2:\n",
    "\n",
    "Does employee xp relate to sales?"
   ]
  },
  {
   "cell_type": "code",
   "execution_count": 15,
   "metadata": {},
   "outputs": [
    {
     "name": "stdout",
     "output_type": "stream",
     "text": [
      "<class 'pandas.core.frame.DataFrame'>\n",
      "RangeIndex: 9 entries, 0 to 8\n",
      "Data columns (total 18 columns):\n",
      "Id                 9 non-null int64\n",
      "LastName           9 non-null object\n",
      "FirstName          9 non-null object\n",
      "Title              9 non-null object\n",
      "TitleOfCourtesy    9 non-null object\n",
      "BirthDate          9 non-null object\n",
      "HireDate           9 non-null object\n",
      "Address            9 non-null object\n",
      "City               9 non-null object\n",
      "Region             9 non-null object\n",
      "PostalCode         9 non-null object\n",
      "Country            9 non-null object\n",
      "HomePhone          9 non-null object\n",
      "Extension          9 non-null object\n",
      "Photo              0 non-null object\n",
      "Notes              9 non-null object\n",
      "ReportsTo          8 non-null float64\n",
      "PhotoPath          9 non-null object\n",
      "dtypes: float64(1), int64(1), object(16)\n",
      "memory usage: 1.3+ KB\n"
     ]
    }
   ],
   "source": [
    "cur.execute('''SELECT *\n",
    "                FROM Employee;''')\n",
    "emps = pd.DataFrame(cur.fetchall())\n",
    "emps.columns = [x[0] for x in cur.description]\n",
    "emps.info()"
   ]
  },
  {
   "cell_type": "code",
   "execution_count": 20,
   "metadata": {},
   "outputs": [],
   "source": [
    "from datetime import date\n",
    "today = pd.to_datetime(date.today())\n",
    "emps['HireDate'] = pd.to_datetime(emps['HireDate'])\n",
    "emps['XP']= (emps['HireDate']-today)/365.25"
   ]
  },
  {
   "cell_type": "code",
   "execution_count": 21,
   "metadata": {},
   "outputs": [
    {
     "data": {
      "text/html": [
       "<div>\n",
       "<style scoped>\n",
       "    .dataframe tbody tr th:only-of-type {\n",
       "        vertical-align: middle;\n",
       "    }\n",
       "\n",
       "    .dataframe tbody tr th {\n",
       "        vertical-align: top;\n",
       "    }\n",
       "\n",
       "    .dataframe thead th {\n",
       "        text-align: right;\n",
       "    }\n",
       "</style>\n",
       "<table border=\"1\" class=\"dataframe\">\n",
       "  <thead>\n",
       "    <tr style=\"text-align: right;\">\n",
       "      <th></th>\n",
       "      <th>Id</th>\n",
       "      <th>LastName</th>\n",
       "      <th>FirstName</th>\n",
       "      <th>Title</th>\n",
       "      <th>TitleOfCourtesy</th>\n",
       "      <th>BirthDate</th>\n",
       "      <th>HireDate</th>\n",
       "      <th>Address</th>\n",
       "      <th>City</th>\n",
       "      <th>Region</th>\n",
       "      <th>PostalCode</th>\n",
       "      <th>Country</th>\n",
       "      <th>HomePhone</th>\n",
       "      <th>Extension</th>\n",
       "      <th>Photo</th>\n",
       "      <th>Notes</th>\n",
       "      <th>ReportsTo</th>\n",
       "      <th>PhotoPath</th>\n",
       "      <th>XP</th>\n",
       "    </tr>\n",
       "  </thead>\n",
       "  <tbody>\n",
       "    <tr>\n",
       "      <th>0</th>\n",
       "      <td>1</td>\n",
       "      <td>Davolio</td>\n",
       "      <td>Nancy</td>\n",
       "      <td>Sales Representative</td>\n",
       "      <td>Ms.</td>\n",
       "      <td>1980-12-08</td>\n",
       "      <td>2024-05-01</td>\n",
       "      <td>507 - 20th Ave. E. Apt. 2A</td>\n",
       "      <td>Seattle</td>\n",
       "      <td>North America</td>\n",
       "      <td>98122</td>\n",
       "      <td>USA</td>\n",
       "      <td>(206) 555-9857</td>\n",
       "      <td>5467</td>\n",
       "      <td>None</td>\n",
       "      <td>Education includes a BA in psychology from Col...</td>\n",
       "      <td>2.0</td>\n",
       "      <td>http://accweb/emmployees/davolio.bmp</td>\n",
       "      <td>4 days 10:15:01.848049</td>\n",
       "    </tr>\n",
       "    <tr>\n",
       "      <th>1</th>\n",
       "      <td>2</td>\n",
       "      <td>Fuller</td>\n",
       "      <td>Andrew</td>\n",
       "      <td>Vice President, Sales</td>\n",
       "      <td>Dr.</td>\n",
       "      <td>1984-02-19</td>\n",
       "      <td>2024-08-14</td>\n",
       "      <td>908 W. Capital Way</td>\n",
       "      <td>Tacoma</td>\n",
       "      <td>North America</td>\n",
       "      <td>98401</td>\n",
       "      <td>USA</td>\n",
       "      <td>(206) 555-9482</td>\n",
       "      <td>3457</td>\n",
       "      <td>None</td>\n",
       "      <td>Andrew received his BTS commercial in 1974 and...</td>\n",
       "      <td>NaN</td>\n",
       "      <td>http://accweb/emmployees/fuller.bmp</td>\n",
       "      <td>4 days 17:08:59.630390</td>\n",
       "    </tr>\n",
       "    <tr>\n",
       "      <th>2</th>\n",
       "      <td>3</td>\n",
       "      <td>Leverling</td>\n",
       "      <td>Janet</td>\n",
       "      <td>Sales Representative</td>\n",
       "      <td>Ms.</td>\n",
       "      <td>1995-08-30</td>\n",
       "      <td>2024-04-01</td>\n",
       "      <td>722 Moss Bay Blvd.</td>\n",
       "      <td>Kirkland</td>\n",
       "      <td>North America</td>\n",
       "      <td>98033</td>\n",
       "      <td>USA</td>\n",
       "      <td>(206) 555-3412</td>\n",
       "      <td>3355</td>\n",
       "      <td>None</td>\n",
       "      <td>Janet has a BS degree in chemistry from Boston...</td>\n",
       "      <td>2.0</td>\n",
       "      <td>http://accweb/emmployees/leverling.bmp</td>\n",
       "      <td>4 days 08:16:45.338809</td>\n",
       "    </tr>\n",
       "    <tr>\n",
       "      <th>3</th>\n",
       "      <td>4</td>\n",
       "      <td>Peacock</td>\n",
       "      <td>Margaret</td>\n",
       "      <td>Sales Representative</td>\n",
       "      <td>Mrs.</td>\n",
       "      <td>1969-09-19</td>\n",
       "      <td>2025-05-03</td>\n",
       "      <td>4110 Old Redmond Rd.</td>\n",
       "      <td>Redmond</td>\n",
       "      <td>North America</td>\n",
       "      <td>98052</td>\n",
       "      <td>USA</td>\n",
       "      <td>(206) 555-8122</td>\n",
       "      <td>5176</td>\n",
       "      <td>None</td>\n",
       "      <td>Margaret holds a BA in English literature from...</td>\n",
       "      <td>2.0</td>\n",
       "      <td>http://accweb/emmployees/peacock.bmp</td>\n",
       "      <td>5 days 10:21:55.811088</td>\n",
       "    </tr>\n",
       "    <tr>\n",
       "      <th>4</th>\n",
       "      <td>5</td>\n",
       "      <td>Buchanan</td>\n",
       "      <td>Steven</td>\n",
       "      <td>Sales Manager</td>\n",
       "      <td>Mr.</td>\n",
       "      <td>1987-03-04</td>\n",
       "      <td>2025-10-17</td>\n",
       "      <td>14 Garrett Hill</td>\n",
       "      <td>London</td>\n",
       "      <td>British Isles</td>\n",
       "      <td>SW1 8JR</td>\n",
       "      <td>UK</td>\n",
       "      <td>(71) 555-4848</td>\n",
       "      <td>3453</td>\n",
       "      <td>None</td>\n",
       "      <td>Steven Buchanan graduated from St. Andrews Uni...</td>\n",
       "      <td>2.0</td>\n",
       "      <td>http://accweb/emmployees/buchanan.bmp</td>\n",
       "      <td>5 days 21:20:19.712525</td>\n",
       "    </tr>\n",
       "    <tr>\n",
       "      <th>5</th>\n",
       "      <td>6</td>\n",
       "      <td>Suyama</td>\n",
       "      <td>Michael</td>\n",
       "      <td>Sales Representative</td>\n",
       "      <td>Mr.</td>\n",
       "      <td>1995-07-02</td>\n",
       "      <td>2025-10-17</td>\n",
       "      <td>Coventry House Miner Rd.</td>\n",
       "      <td>London</td>\n",
       "      <td>British Isles</td>\n",
       "      <td>EC2 7JR</td>\n",
       "      <td>UK</td>\n",
       "      <td>(71) 555-7773</td>\n",
       "      <td>428</td>\n",
       "      <td>None</td>\n",
       "      <td>Michael is a graduate of Sussex University (MA...</td>\n",
       "      <td>5.0</td>\n",
       "      <td>http://accweb/emmployees/davolio.bmp</td>\n",
       "      <td>5 days 21:20:19.712525</td>\n",
       "    </tr>\n",
       "    <tr>\n",
       "      <th>6</th>\n",
       "      <td>7</td>\n",
       "      <td>King</td>\n",
       "      <td>Robert</td>\n",
       "      <td>Sales Representative</td>\n",
       "      <td>Mr.</td>\n",
       "      <td>1992-05-29</td>\n",
       "      <td>2026-01-02</td>\n",
       "      <td>Edgeham Hollow Winchester Way</td>\n",
       "      <td>London</td>\n",
       "      <td>British Isles</td>\n",
       "      <td>RG1 9SP</td>\n",
       "      <td>UK</td>\n",
       "      <td>(71) 555-5598</td>\n",
       "      <td>465</td>\n",
       "      <td>None</td>\n",
       "      <td>Robert King served in the Peace Corps and trav...</td>\n",
       "      <td>5.0</td>\n",
       "      <td>http://accweb/emmployees/davolio.bmp</td>\n",
       "      <td>6 days 02:23:54.086242</td>\n",
       "    </tr>\n",
       "    <tr>\n",
       "      <th>7</th>\n",
       "      <td>8</td>\n",
       "      <td>Callahan</td>\n",
       "      <td>Laura</td>\n",
       "      <td>Inside Sales Coordinator</td>\n",
       "      <td>Ms.</td>\n",
       "      <td>1990-01-09</td>\n",
       "      <td>2026-03-05</td>\n",
       "      <td>4726 - 11th Ave. N.E.</td>\n",
       "      <td>Seattle</td>\n",
       "      <td>North America</td>\n",
       "      <td>98105</td>\n",
       "      <td>USA</td>\n",
       "      <td>(206) 555-1189</td>\n",
       "      <td>2344</td>\n",
       "      <td>None</td>\n",
       "      <td>Laura received a BA in psychology from the Uni...</td>\n",
       "      <td>2.0</td>\n",
       "      <td>http://accweb/emmployees/davolio.bmp</td>\n",
       "      <td>6 days 06:28:20.205338</td>\n",
       "    </tr>\n",
       "    <tr>\n",
       "      <th>8</th>\n",
       "      <td>9</td>\n",
       "      <td>Dodsworth</td>\n",
       "      <td>Anne</td>\n",
       "      <td>Sales Representative</td>\n",
       "      <td>Ms.</td>\n",
       "      <td>1998-01-27</td>\n",
       "      <td>2026-11-15</td>\n",
       "      <td>7 Houndstooth Rd.</td>\n",
       "      <td>London</td>\n",
       "      <td>British Isles</td>\n",
       "      <td>WG2 7LT</td>\n",
       "      <td>UK</td>\n",
       "      <td>(71) 555-4444</td>\n",
       "      <td>452</td>\n",
       "      <td>None</td>\n",
       "      <td>Anne has a BA degree in English from St. Lawre...</td>\n",
       "      <td>5.0</td>\n",
       "      <td>http://accweb/emmployees/davolio.bmp</td>\n",
       "      <td>6 days 23:13:40.533880</td>\n",
       "    </tr>\n",
       "  </tbody>\n",
       "</table>\n",
       "</div>"
      ],
      "text/plain": [
       "   Id   LastName FirstName                     Title TitleOfCourtesy  \\\n",
       "0   1    Davolio     Nancy      Sales Representative             Ms.   \n",
       "1   2     Fuller    Andrew     Vice President, Sales             Dr.   \n",
       "2   3  Leverling     Janet      Sales Representative             Ms.   \n",
       "3   4    Peacock  Margaret      Sales Representative            Mrs.   \n",
       "4   5   Buchanan    Steven             Sales Manager             Mr.   \n",
       "5   6     Suyama   Michael      Sales Representative             Mr.   \n",
       "6   7       King    Robert      Sales Representative             Mr.   \n",
       "7   8   Callahan     Laura  Inside Sales Coordinator             Ms.   \n",
       "8   9  Dodsworth      Anne      Sales Representative             Ms.   \n",
       "\n",
       "    BirthDate   HireDate                        Address      City  \\\n",
       "0  1980-12-08 2024-05-01     507 - 20th Ave. E. Apt. 2A   Seattle   \n",
       "1  1984-02-19 2024-08-14             908 W. Capital Way    Tacoma   \n",
       "2  1995-08-30 2024-04-01             722 Moss Bay Blvd.  Kirkland   \n",
       "3  1969-09-19 2025-05-03           4110 Old Redmond Rd.   Redmond   \n",
       "4  1987-03-04 2025-10-17                14 Garrett Hill    London   \n",
       "5  1995-07-02 2025-10-17       Coventry House Miner Rd.    London   \n",
       "6  1992-05-29 2026-01-02  Edgeham Hollow Winchester Way    London   \n",
       "7  1990-01-09 2026-03-05          4726 - 11th Ave. N.E.   Seattle   \n",
       "8  1998-01-27 2026-11-15              7 Houndstooth Rd.    London   \n",
       "\n",
       "          Region PostalCode Country       HomePhone Extension Photo  \\\n",
       "0  North America      98122     USA  (206) 555-9857      5467  None   \n",
       "1  North America      98401     USA  (206) 555-9482      3457  None   \n",
       "2  North America      98033     USA  (206) 555-3412      3355  None   \n",
       "3  North America      98052     USA  (206) 555-8122      5176  None   \n",
       "4  British Isles    SW1 8JR      UK   (71) 555-4848      3453  None   \n",
       "5  British Isles    EC2 7JR      UK   (71) 555-7773       428  None   \n",
       "6  British Isles    RG1 9SP      UK   (71) 555-5598       465  None   \n",
       "7  North America      98105     USA  (206) 555-1189      2344  None   \n",
       "8  British Isles    WG2 7LT      UK   (71) 555-4444       452  None   \n",
       "\n",
       "                                               Notes  ReportsTo  \\\n",
       "0  Education includes a BA in psychology from Col...        2.0   \n",
       "1  Andrew received his BTS commercial in 1974 and...        NaN   \n",
       "2  Janet has a BS degree in chemistry from Boston...        2.0   \n",
       "3  Margaret holds a BA in English literature from...        2.0   \n",
       "4  Steven Buchanan graduated from St. Andrews Uni...        2.0   \n",
       "5  Michael is a graduate of Sussex University (MA...        5.0   \n",
       "6  Robert King served in the Peace Corps and trav...        5.0   \n",
       "7  Laura received a BA in psychology from the Uni...        2.0   \n",
       "8  Anne has a BA degree in English from St. Lawre...        5.0   \n",
       "\n",
       "                                PhotoPath                     XP  \n",
       "0    http://accweb/emmployees/davolio.bmp 4 days 10:15:01.848049  \n",
       "1     http://accweb/emmployees/fuller.bmp 4 days 17:08:59.630390  \n",
       "2  http://accweb/emmployees/leverling.bmp 4 days 08:16:45.338809  \n",
       "3    http://accweb/emmployees/peacock.bmp 5 days 10:21:55.811088  \n",
       "4   http://accweb/emmployees/buchanan.bmp 5 days 21:20:19.712525  \n",
       "5    http://accweb/emmployees/davolio.bmp 5 days 21:20:19.712525  \n",
       "6    http://accweb/emmployees/davolio.bmp 6 days 02:23:54.086242  \n",
       "7    http://accweb/emmployees/davolio.bmp 6 days 06:28:20.205338  \n",
       "8    http://accweb/emmployees/davolio.bmp 6 days 23:13:40.533880  "
      ]
     },
     "execution_count": 21,
     "metadata": {},
     "output_type": "execute_result"
    }
   ],
   "source": [
    "emps"
   ]
  },
  {
   "cell_type": "code",
   "execution_count": null,
   "metadata": {},
   "outputs": [],
   "source": []
  },
  {
   "cell_type": "code",
   "execution_count": 48,
   "metadata": {},
   "outputs": [
    {
     "ename": "OperationalError",
     "evalue": "no such column: CustomerID",
     "output_type": "error",
     "traceback": [
      "\u001b[0;31m---------------------------------------------------------------------------\u001b[0m",
      "\u001b[0;31mOperationalError\u001b[0m                          Traceback (most recent call last)",
      "\u001b[0;32m<ipython-input-48-a2be138f9f52>\u001b[0m in \u001b[0;36m<module>\u001b[0;34m\u001b[0m\n\u001b[1;32m      1\u001b[0m cur.execute('''SELECT CustomerID\n\u001b[0;32m----> 2\u001b[0;31m                 FROM CustomerCustomerDemo;''')\n\u001b[0m\u001b[1;32m      3\u001b[0m \u001b[0memps\u001b[0m \u001b[0;34m=\u001b[0m \u001b[0mpd\u001b[0m\u001b[0;34m.\u001b[0m\u001b[0mDataFrame\u001b[0m\u001b[0;34m(\u001b[0m\u001b[0mcur\u001b[0m\u001b[0;34m.\u001b[0m\u001b[0mfetchall\u001b[0m\u001b[0;34m(\u001b[0m\u001b[0;34m)\u001b[0m\u001b[0;34m)\u001b[0m\u001b[0;34m\u001b[0m\u001b[0;34m\u001b[0m\u001b[0m\n\u001b[1;32m      4\u001b[0m \u001b[0;31m# emps.columns = [x[0] for x in cur.description]\u001b[0m\u001b[0;34m\u001b[0m\u001b[0;34m\u001b[0m\u001b[0;34m\u001b[0m\u001b[0m\n\u001b[1;32m      5\u001b[0m \u001b[0memps\u001b[0m\u001b[0;34m.\u001b[0m\u001b[0minfo\u001b[0m\u001b[0;34m(\u001b[0m\u001b[0;34m)\u001b[0m\u001b[0;34m\u001b[0m\u001b[0;34m\u001b[0m\u001b[0m\n",
      "\u001b[0;31mOperationalError\u001b[0m: no such column: CustomerID"
     ]
    }
   ],
   "source": [
    "cur.execute('''SELECT CustomerID\n",
    "                FROM CustomerCustomerDemo;''')\n",
    "emps = pd.DataFrame(cur.fetchall())\n",
    "# emps.columns = [x[0] for x in cur.description]\n",
    "emps.info()"
   ]
  },
  {
   "cell_type": "code",
   "execution_count": null,
   "metadata": {},
   "outputs": [],
   "source": []
  }
 ],
 "metadata": {
  "kernelspec": {
   "display_name": "Python 3",
   "language": "python",
   "name": "python3"
  },
  "language_info": {
   "codemirror_mode": {
    "name": "ipython",
    "version": 3
   },
   "file_extension": ".py",
   "mimetype": "text/x-python",
   "name": "python",
   "nbconvert_exporter": "python",
   "pygments_lexer": "ipython3",
   "version": "3.7.3"
  }
 },
 "nbformat": 4,
 "nbformat_minor": 2
}
